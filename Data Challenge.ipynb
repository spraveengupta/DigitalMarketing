{
 "cells": [
  {
   "cell_type": "markdown",
   "metadata": {},
   "source": [
    "# Data Challenge"
   ]
  },
  {
   "cell_type": "code",
   "execution_count": 2,
   "metadata": {
    "collapsed": true
   },
   "outputs": [],
   "source": [
    "# Imports required libraries\n",
    "import pandas as pd\n",
    "import numpy as np\n",
    "import tabulate\n",
    "import seaborn as sns\n",
    "import matplotlib\n",
    "import matplotlib.pyplot as plt\n",
    "import sklearn\n",
    "import sys"
   ]
  },
  {
   "cell_type": "markdown",
   "metadata": {},
   "source": [
    "###  Versions used in this code"
   ]
  },
  {
   "cell_type": "code",
   "execution_count": 3,
   "metadata": {
    "collapsed": false
   },
   "outputs": [
    {
     "name": "stdout",
     "output_type": "stream",
     "text": [
      "Versions of packages used :\n",
      "Python Version - 2.7.11 |Anaconda 2.4.1 (64-bit)| (default, Feb 16 2016, 09:58:36) [MSC v.1500 64 bit (AMD64)]\n",
      "\tPandas Version - 0.17.1\n",
      "\tPandas Version - 0.17.1\n",
      "\tNumPy Version - 1.11.0\n",
      "\tTabulate Version - 0.7.5\n",
      "\tSeaborn Version - 0.7.1\n",
      "\tMatplotlib Version - 1.5.0\n",
      "\tSkLearn Version - 0.17\n"
     ]
    }
   ],
   "source": [
    "# Finds out the versions of packages used\n",
    "print \"Versions of packages used :\"\n",
    "print \"Python Version - {0}\" .format(sys.version)\n",
    "print \"\\tPandas Version - {0}\" .format(pd.__version__)\n",
    "print \"\\tPandas Version - {0}\" .format(pd.__version__)\n",
    "print \"\\tNumPy Version - {0}\" .format(np.__version__)\n",
    "print \"\\tTabulate Version - {0}\" .format(tabulate.__version__)\n",
    "print \"\\tSeaborn Version - {0}\" .format(sns.__version__)\n",
    "print \"\\tMatplotlib Version - {0}\" .format(matplotlib.__version__)\n",
    "print \"\\tSkLearn Version - {0}\" .format(sklearn.__version__)\n"
   ]
  },
  {
   "cell_type": "code",
   "execution_count": 4,
   "metadata": {
    "collapsed": false
   },
   "outputs": [
    {
     "name": "stdout",
     "output_type": "stream",
     "text": [
      "Shape of the Data is : (59976, 19)\n"
     ]
    }
   ],
   "source": [
    "# Reading source data to dataframe\n",
    "data=pd.read_csv('challenge.csv')\n",
    "print \"Shape of the Data is : {0}\".format(data.shape)"
   ]
  },
  {
   "cell_type": "markdown",
   "metadata": {},
   "source": [
    "## Exploratory Data Analysis"
   ]
  },
  {
   "cell_type": "code",
   "execution_count": 5,
   "metadata": {
    "collapsed": false
   },
   "outputs": [],
   "source": [
    "# Function to validate the dataframe\n",
    "def validate_data_set(df):\n",
    "    \"\"\"\n",
    "    checks the validity variables of a dataset. \n",
    "    It looks for datatypes, number of unique values and number of missing values\n",
    "    df (pandas.dataframe): dataset\n",
    "    \"\"\"\n",
    "    s = []\n",
    "    i=0\n",
    "    for col in df.columns:\n",
    "        s.append((i,col,df[col].dtype,len(pd.unique(df[col])),df[df[col].isnull()].shape[0],\n",
    "                  round(100*df[df[col].isnull()].shape[0]/float(df.shape[0]),2)))\n",
    "        i=i+1\n",
    "    print tabulate.tabulate(s,['S.No.','Label','dtype','# unique values','# missing values','# missing values (%)','Var'])"
   ]
  },
  {
   "cell_type": "code",
   "execution_count": 6,
   "metadata": {
    "collapsed": false
   },
   "outputs": [
    {
     "name": "stdout",
     "output_type": "stream",
     "text": [
      "  S.No.  Label                          dtype      # unique values    # missing values    # missing values (%)\n",
      "-------  -----------------------------  -------  -----------------  ------------------  ----------------------\n",
      "      0  id                             int64                59976                   0                    0\n",
      "      1  read_rate                      float64               6459                   0                    0\n",
      "      2  from_domain_hash               object               25481                   0                    0\n",
      "      3  Domain_extension               object                 399                   5                    0.01\n",
      "      4  day                            object                   8                   1                    0\n",
      "      5  campaign_size                  float64               1968                   1                    0\n",
      "      6  unique_user_cnt                float64               1904                   1                    0\n",
      "      7  avg_domain_read_rate           float64              20689                   1                    0\n",
      "      8  avg_domain_inbox_rate          float64              21255                   1                    0\n",
      "      9  avg_user_avg_read_rate         float64              58240                   1                    0\n",
      "     10  avg_user_domain_avg_read_rate  float64              31231                   1                    0\n",
      "     11  mb_superuser                   float64               6300                   1                    0\n",
      "     12  mb_engper                      float64               7480                   1                    0\n",
      "     13  mb_supersub                    float64               7122                   1                    0\n",
      "     14  mb_engsec                      float64               6241                   1                    0\n",
      "     15  mb_inper                       float64               3413                   1                    0\n",
      "     16  mb_insec                       float64               7114                   1                    0\n",
      "     17  mb_unengsec                    float64               6312                   1                    0\n",
      "     18  mb_idlesub                     float64               1614                   1                    0\n"
     ]
    }
   ],
   "source": [
    "validate_data_set(data)"
   ]
  },
  {
   "cell_type": "markdown",
   "metadata": {},
   "source": [
    "- It can be seen that only one value is missing for most of the variables\n",
    "- When observed closely, it is the last record that is missing, probably due to incomplete data\n",
    "- So, Removing the last record from the data instead of imputing"
   ]
  },
  {
   "cell_type": "code",
   "execution_count": 7,
   "metadata": {
    "collapsed": true
   },
   "outputs": [],
   "source": [
    "# Ignores the last record\n",
    "data=data[0:59975]"
   ]
  },
  {
   "cell_type": "markdown",
   "metadata": {},
   "source": [
    "## Visualisations"
   ]
  },
  {
   "cell_type": "markdown",
   "metadata": {},
   "source": [
    "### Average read rate across different days"
   ]
  },
  {
   "cell_type": "code",
   "execution_count": 8,
   "metadata": {
    "collapsed": false
   },
   "outputs": [
    {
     "data": {
      "image/png": "[encoded data removed]",
      "text/plain": [
       "<matplotlib.figure.Figure at 0x19f2beb8>"
      ]
     },
     "metadata": {},
     "output_type": "display_data"
    }
   ],
   "source": [
    "# Prepares data for this plot\n",
    "dayorder=data.groupby('day').mean().reset_index()[['day','read_rate']].sort_values('read_rate',ascending=False)\n",
    "arrdayorder=dayorder['day'].values\n",
    "\n",
    "%matplotlib inline\n",
    "plt.figure(figsize=(10, 6))\n",
    "sns.set_context(\"poster\")\n",
    "ax = sns.barplot(x=\"day\",y='read_rate',data=data,linewidth=2,order=arrdayorder,palette='hls');\n",
    "ax.set(ylabel='Average Read Rate')\n",
    "ax.set_title('Average read rate across different days')\n",
    "plt.show()"
   ]
  },
  {
   "cell_type": "markdown",
   "metadata": {},
   "source": [
    "- **Average read rate across weekdays is almost constant.  However, on weekends, average read rate is much low**"
   ]
  },
  {
   "cell_type": "markdown",
   "metadata": {},
   "source": [
    "### Read rate across domains"
   ]
  },
  {
   "cell_type": "code",
   "execution_count": 9,
   "metadata": {
    "collapsed": false
   },
   "outputs": [
    {
     "name": "stdout",
     "output_type": "stream",
     "text": [
      "The average read rate of a email campaign is 0.0946\n"
     ]
    }
   ],
   "source": [
    "print \"The average read rate of a email campaign is {0}\".format(round(np.mean(data['read_rate']),4))\n",
    "\n",
    "# Prepares data for the next plot\n",
    "top5domains=pd.DataFrame(data['Domain_extension'].value_counts()).reset_index().sort_values('Domain_extension',ascending=False).head(5)\n",
    "arrtop5domains=top5domains['index'].values\n",
    "top5domainData=data.loc[data.Domain_extension.isin(arrtop5domains)]\n"
   ]
  },
  {
   "cell_type": "markdown",
   "metadata": {},
   "source": [
    "- **Average read rate is around 10% implies that only 1 in 10 emails are being read in a email campaign on an average**"
   ]
  },
  {
   "cell_type": "code",
   "execution_count": 10,
   "metadata": {
    "collapsed": false
   },
   "outputs": [
    {
     "data": {
      "image/png": "[encoded data removed]",
      "text/plain": [
       "<matplotlib.figure.Figure at 0x187c0748>"
      ]
     },
     "metadata": {},
     "output_type": "display_data"
    }
   ],
   "source": [
    "%matplotlib inline\n",
    "plt.figure(figsize=(10, 6))\n",
    "sns.set_context(\"poster\")\n",
    "ax = sns.boxplot(x=\"Domain_extension\",y='read_rate',data=top5domainData,linewidth=2,palette='hls');\n",
    "ax.set(ylabel='Read Rate')\n",
    "ax.set_title('Read rate variation across domains')\n",
    "plt.ylim(-0.1,1)\n",
    "plt.show()"
   ]
  },
  {
   "cell_type": "markdown",
   "metadata": {},
   "source": [
    "- Email read rate is maximum for the emails that are going through **'org'** domain \n",
    "\n",
    "\n",
    "- There are many email campaigns in which none of the emails are being read\n",
    "    - Around 50% of the email campaigns through **'br', 'com', 'net'** domains have '0' read rate\n",
    "    - Around 75% of the email campaigns through **'info'** domain have '0' read rate"
   ]
  },
  {
   "cell_type": "markdown",
   "metadata": {},
   "source": [
    "### Correlation of read rate across different user types"
   ]
  },
  {
   "cell_type": "code",
   "execution_count": 11,
   "metadata": {
    "collapsed": false
   },
   "outputs": [
    {
     "data": {
      "text/html": [
       "<div>\n",
       "<table border=\"1\" class=\"dataframe\">\n",
       "  <thead>\n",
       "    <tr style=\"text-align: right;\">\n",
       "      <th></th>\n",
       "      <th>mb_superuser</th>\n",
       "      <th>mb_engper</th>\n",
       "      <th>mb_supersub</th>\n",
       "      <th>mb_engsec</th>\n",
       "      <th>mb_inper</th>\n",
       "      <th>mb_insec</th>\n",
       "      <th>mb_unengsec</th>\n",
       "      <th>mb_idlesub</th>\n",
       "    </tr>\n",
       "  </thead>\n",
       "  <tbody>\n",
       "    <tr>\n",
       "      <th>read_rate</th>\n",
       "      <td>0.582466</td>\n",
       "      <td>0.259501</td>\n",
       "      <td>-0.134856</td>\n",
       "      <td>-0.204647</td>\n",
       "      <td>-0.097917</td>\n",
       "      <td>-0.311419</td>\n",
       "      <td>-0.235203</td>\n",
       "      <td>-0.014448</td>\n",
       "    </tr>\n",
       "  </tbody>\n",
       "</table>\n",
       "</div>"
      ],
      "text/plain": [
       "           mb_superuser  mb_engper  mb_supersub  mb_engsec  mb_inper  \\\n",
       "read_rate      0.582466   0.259501    -0.134856  -0.204647 -0.097917   \n",
       "\n",
       "           mb_insec  mb_unengsec  mb_idlesub  \n",
       "read_rate -0.311419    -0.235203   -0.014448  "
      ]
     },
     "execution_count": 11,
     "metadata": {},
     "output_type": "execute_result"
    }
   ],
   "source": [
    "# Correlation of email campaign read with user types\n",
    "data.corr()[1:2][['mb_superuser','mb_engper','mb_supersub','mb_engsec','mb_inper','mb_insec','mb_unengsec','mb_idlesub']]\n"
   ]
  },
  {
   "cell_type": "markdown",
   "metadata": {},
   "source": [
    "- Read rate is positively correlated with the percentage of the 'super users' and 'engaged personal users' in the email campaigning list\n",
    "\n",
    "- Read rate is negatively correlated with the percentage of the 'super subscribers', 'engaged secondary accounts', 'unengaged secondary accounts', 'inactive personal', 'inactive secondary', 'idle account' in the email campaigning list\n"
   ]
  },
  {
   "cell_type": "markdown",
   "metadata": {},
   "source": [
    "## Data Modification"
   ]
  },
  {
   "cell_type": "markdown",
   "metadata": {},
   "source": [
    "### Collapsing Domain extension levels"
   ]
  },
  {
   "cell_type": "markdown",
   "metadata": {},
   "source": [
    "- There are around 400 levels in the 'Domain Extension' variable\n",
    "- Directly creating dummies for all the levels could lead to 'curse of dimensionality' and 'over fitting'\n",
    "- Remedy chosen for this problem is to collapse certain levels"
   ]
  },
  {
   "cell_type": "code",
   "execution_count": 12,
   "metadata": {
    "collapsed": false
   },
   "outputs": [
    {
     "data": {
      "text/html": [
       "<div>\n",
       "<table border=\"1\" class=\"dataframe\">\n",
       "  <thead>\n",
       "    <tr style=\"text-align: right;\">\n",
       "      <th></th>\n",
       "      <th>Domain_extension</th>\n",
       "      <th>count</th>\n",
       "      <th>% covered</th>\n",
       "      <th>cumulative %</th>\n",
       "    </tr>\n",
       "  </thead>\n",
       "  <tbody>\n",
       "    <tr>\n",
       "      <th>0</th>\n",
       "      <td>com</td>\n",
       "      <td>42933</td>\n",
       "      <td>71.58</td>\n",
       "      <td>71.58</td>\n",
       "    </tr>\n",
       "    <tr>\n",
       "      <th>1</th>\n",
       "      <td>info</td>\n",
       "      <td>3351</td>\n",
       "      <td>5.59</td>\n",
       "      <td>77.17</td>\n",
       "    </tr>\n",
       "    <tr>\n",
       "      <th>2</th>\n",
       "      <td>net</td>\n",
       "      <td>2781</td>\n",
       "      <td>4.64</td>\n",
       "      <td>81.81</td>\n",
       "    </tr>\n",
       "    <tr>\n",
       "      <th>3</th>\n",
       "      <td>org</td>\n",
       "      <td>1707</td>\n",
       "      <td>2.85</td>\n",
       "      <td>84.66</td>\n",
       "    </tr>\n",
       "    <tr>\n",
       "      <th>4</th>\n",
       "      <td>br</td>\n",
       "      <td>1425</td>\n",
       "      <td>2.38</td>\n",
       "      <td>87.03</td>\n",
       "    </tr>\n",
       "    <tr>\n",
       "      <th>5</th>\n",
       "      <td>uk</td>\n",
       "      <td>956</td>\n",
       "      <td>1.59</td>\n",
       "      <td>88.63</td>\n",
       "    </tr>\n",
       "    <tr>\n",
       "      <th>6</th>\n",
       "      <td>tw</td>\n",
       "      <td>453</td>\n",
       "      <td>0.76</td>\n",
       "      <td>89.38</td>\n",
       "    </tr>\n",
       "    <tr>\n",
       "      <th>7</th>\n",
       "      <td>us</td>\n",
       "      <td>381</td>\n",
       "      <td>0.64</td>\n",
       "      <td>90.02</td>\n",
       "    </tr>\n",
       "    <tr>\n",
       "      <th>8</th>\n",
       "      <td>fr</td>\n",
       "      <td>371</td>\n",
       "      <td>0.62</td>\n",
       "      <td>90.63</td>\n",
       "    </tr>\n",
       "    <tr>\n",
       "      <th>9</th>\n",
       "      <td>de</td>\n",
       "      <td>296</td>\n",
       "      <td>0.49</td>\n",
       "      <td>91.13</td>\n",
       "    </tr>\n",
       "    <tr>\n",
       "      <th>10</th>\n",
       "      <td>ro</td>\n",
       "      <td>258</td>\n",
       "      <td>0.43</td>\n",
       "      <td>91.56</td>\n",
       "    </tr>\n",
       "    <tr>\n",
       "      <th>11</th>\n",
       "      <td>au</td>\n",
       "      <td>257</td>\n",
       "      <td>0.43</td>\n",
       "      <td>91.99</td>\n",
       "    </tr>\n",
       "    <tr>\n",
       "      <th>12</th>\n",
       "      <td>in</td>\n",
       "      <td>233</td>\n",
       "      <td>0.39</td>\n",
       "      <td>92.38</td>\n",
       "    </tr>\n",
       "    <tr>\n",
       "      <th>13</th>\n",
       "      <td>edu</td>\n",
       "      <td>212</td>\n",
       "      <td>0.35</td>\n",
       "      <td>92.73</td>\n",
       "    </tr>\n",
       "    <tr>\n",
       "      <th>14</th>\n",
       "      <td>ca</td>\n",
       "      <td>143</td>\n",
       "      <td>0.24</td>\n",
       "      <td>92.97</td>\n",
       "    </tr>\n",
       "    <tr>\n",
       "      <th>15</th>\n",
       "      <td>it</td>\n",
       "      <td>135</td>\n",
       "      <td>0.23</td>\n",
       "      <td>93.19</td>\n",
       "    </tr>\n",
       "    <tr>\n",
       "      <th>16</th>\n",
       "      <td>jp</td>\n",
       "      <td>117</td>\n",
       "      <td>0.20</td>\n",
       "      <td>93.39</td>\n",
       "    </tr>\n",
       "    <tr>\n",
       "      <th>17</th>\n",
       "      <td>gov</td>\n",
       "      <td>103</td>\n",
       "      <td>0.17</td>\n",
       "      <td>93.56</td>\n",
       "    </tr>\n",
       "    <tr>\n",
       "      <th>18</th>\n",
       "      <td>biz</td>\n",
       "      <td>103</td>\n",
       "      <td>0.17</td>\n",
       "      <td>93.73</td>\n",
       "    </tr>\n",
       "    <tr>\n",
       "      <th>19</th>\n",
       "      <td>eu</td>\n",
       "      <td>93</td>\n",
       "      <td>0.16</td>\n",
       "      <td>93.89</td>\n",
       "    </tr>\n",
       "  </tbody>\n",
       "</table>\n",
       "</div>"
      ],
      "text/plain": [
       "   Domain_extension  count  % covered  cumulative %\n",
       "0               com  42933      71.58         71.58\n",
       "1              info   3351       5.59         77.17\n",
       "2               net   2781       4.64         81.81\n",
       "3               org   1707       2.85         84.66\n",
       "4                br   1425       2.38         87.03\n",
       "5                uk    956       1.59         88.63\n",
       "6                tw    453       0.76         89.38\n",
       "7                us    381       0.64         90.02\n",
       "8                fr    371       0.62         90.63\n",
       "9                de    296       0.49         91.13\n",
       "10               ro    258       0.43         91.56\n",
       "11               au    257       0.43         91.99\n",
       "12               in    233       0.39         92.38\n",
       "13              edu    212       0.35         92.73\n",
       "14               ca    143       0.24         92.97\n",
       "15               it    135       0.23         93.19\n",
       "16               jp    117       0.20         93.39\n",
       "17              gov    103       0.17         93.56\n",
       "18              biz    103       0.17         93.73\n",
       "19               eu     93       0.16         93.89"
      ]
     },
     "execution_count": 12,
     "metadata": {},
     "output_type": "execute_result"
    }
   ],
   "source": [
    "# Reviewing the statistics of the domains\n",
    "domains=pd.DataFrame(data['Domain_extension'].value_counts())\n",
    "domains=domains.reset_index()\n",
    "domains.rename(columns={'Domain_extension':'count', 'index':'Domain_extension'}, inplace=True)    #renaming the columns created\n",
    "domains['% covered']=domains['count']*100/float(data.shape[0])        #to find how much percent of the emails are from each domain\n",
    "domains['cumulative %']=domains['% covered'].cumsum()                 #to find the cumulative sum of the percentage col\n",
    "domains=domains.round({'% covered':2,'cumulative %':2})               #rounding of the numbers to two decimals\n",
    "domains.head(20)"
   ]
  },
  {
   "cell_type": "markdown",
   "metadata": {},
   "source": [
    "- About 90% of the variation could be covered by the top 9 levels.  A very minimal variation is being captured for every new additional level\n",
    "- So, the top 9 levels are retained and the remaining levels are collapsed into a new level - 'Other'"
   ]
  },
  {
   "cell_type": "code",
   "execution_count": 13,
   "metadata": {
    "collapsed": false
   },
   "outputs": [
    {
     "name": "stdout",
     "output_type": "stream",
     "text": [
      "Updated Domain Extensions :\n",
      "com      42933\n",
      "Other     5317\n",
      "info      3351\n",
      "net       2781\n",
      "org       1707\n",
      "br        1425\n",
      "uk         956\n",
      "tw         453\n",
      "us         381\n",
      "fr         371\n",
      "de         296\n",
      "Name: Collapsed_Domain_extension, dtype: int64\n"
     ]
    }
   ],
   "source": [
    "# Collapses all the levels other than the top 10 domains\n",
    "to_be_collapsed = domains[10:]['Domain_extension'].values\n",
    "others=['Other']*len(to_be_collapsed)\n",
    "data['Collapsed_Domain_extension']=data['Domain_extension'].replace(to_replace=list(to_be_collapsed),value=others)\n",
    "print \"Updated Domain Extensions :\"\n",
    "print data['Collapsed_Domain_extension'].value_counts()"
   ]
  },
  {
   "cell_type": "markdown",
   "metadata": {},
   "source": [
    "### Creating dummies for categorical variables - 'day' and 'domain'"
   ]
  },
  {
   "cell_type": "markdown",
   "metadata": {},
   "source": [
    "- Dummies have to be created for categorical variables as the dataset has to undergo Machine Learning algorithm processing"
   ]
  },
  {
   "cell_type": "code",
   "execution_count": 14,
   "metadata": {
    "collapsed": true
   },
   "outputs": [
    {
     "name": "stderr",
     "output_type": "stream",
     "text": [
      "C:\\Anaconda2\\envs\\py27\\lib\\site-packages\\numpy\\lib\\arraysetops.py:200: FutureWarning: numpy not_equal will not check object identity in the future. The comparison did not return the same result as suggested by the identity (`is`)) and will change.\n",
      "  flag = np.concatenate(([True], aux[1:] != aux[:-1]))\n"
     ]
    }
   ],
   "source": [
    "# Creates dummies for the domain and day columns\n",
    "from sklearn.preprocessing import LabelEncoder\n",
    "le=LabelEncoder()\n",
    "data['day']=le.fit_transform(data['day'])\n",
    "data['Collapsed_Domain_extension']=le.fit_transform(data['Collapsed_Domain_extension'])\n",
    "data=pd.get_dummies(data,columns=['Collapsed_Domain_extension','day'])"
   ]
  },
  {
   "cell_type": "code",
   "execution_count": 15,
   "metadata": {
    "collapsed": true
   },
   "outputs": [],
   "source": [
    "# Exports the dataframe to a file on top of which predictive models in 'R' are built\n",
    "data.to_csv('updated_data.csv',index=False)"
   ]
  },
  {
   "cell_type": "markdown",
   "metadata": {},
   "source": [
    "## Model"
   ]
  },
  {
   "cell_type": "code",
   "execution_count": 17,
   "metadata": {
    "collapsed": false
   },
   "outputs": [],
   "source": [
    "#function to create submission file\n",
    "#define target and ID Columns for submission\n",
    "target = 'read_rate'\n",
    "IDCol = ['id']\n",
    "\n",
    "from sklearn import cross_validation, metrics\n",
    "\n",
    "def modelfit(alg,dtrain,predictors,target,IDCol):\n",
    "    #fit the algorithm on the data\n",
    "    alg.fit(dtrain[predictors],dtrain[target])\n",
    "    \n",
    "    #predict training data set\n",
    "    dtrain_predictions = alg.predict(dtrain[predictors])\n",
    "    \n",
    "    #performs cross validation\n",
    "    cv_score = cross_validation.cross_val_score(alg,dtrain[predictors],dtrain[target],cv=20,scoring='mean_squared_error')\n",
    "    cv_score=np.sqrt(np.abs(cv_score))\n",
    "    \n",
    "    #Print model report\n",
    "    print \"\\nModel Report :\"\n",
    "    print \"RMSE : %.4g\" % np.sqrt(metrics.mean_squared_error(dtrain[target].values,dtrain_predictions))\n",
    "    print \"R-Square : %.4g\" % metrics.r2_score(dtrain[target].values,dtrain_predictions)\n",
    "    print \"CV Score : Mean - %.4g | Std - %.4g | Min - %.4g | Max - %.4g\"%(np.mean(cv_score),np.std(cv_score),np.min(cv_score),np.max(cv_score))\n",
    "    \n"
   ]
  },
  {
   "cell_type": "code",
   "execution_count": 18,
   "metadata": {
    "collapsed": false
   },
   "outputs": [
    {
     "name": "stdout",
     "output_type": "stream",
     "text": [
      "\n",
      "Model Report :\n",
      "RMSE : 0.07641\n",
      "R-Square : 0.7874\n",
      "CV Score : Mean - 0.07797 | Std - 0.004252 | Min - 0.07149 | Max - 0.08402\n"
     ]
    },
    {
     "data": {
      "text/plain": [
       "<matplotlib.axes._subplots.AxesSubplot at 0x1a0dd0f0>"
      ]
     },
     "execution_count": 18,
     "metadata": {},
     "output_type": "execute_result"
    },
    {
     "data": {
      "image/png": "[encoded data removed]",
      "text/plain": [
       "<matplotlib.figure.Figure at 0x1fced3c8>"
      ]
     },
     "metadata": {},
     "output_type": "display_data"
    }
   ],
   "source": [
    "# Gradient Boosting Machine\n",
    "exempt=['from_domain_hash', 'Domain_extension']\n",
    "from sklearn.ensemble import GradientBoostingRegressor\n",
    "%matplotlib inline\n",
    "predictors = [x for x in data.columns if x not in [target]+IDCol+exempt]\n",
    "alg1= GradientBoostingRegressor(learning_rate=0.2, n_estimators=50, subsample=1.0, min_samples_split=5000, min_samples_leaf=300,\n",
    "                                max_depth=5, random_state=111, max_features='auto')\n",
    "modelfit(alg1,data,predictors,target,IDCol)\n",
    "coef1=pd.Series(alg1.feature_importances_,predictors).sort_values(ascending=False)\n",
    "plt.figure(figsize=(10, 6))\n",
    "coef1.plot(kind='bar',title='Model Coefficients')\n",
    "\n",
    "# print coef1"
   ]
  }
 ],
 "metadata": {
  "kernelspec": {
   "display_name": "Python 2",
   "language": "python",
   "name": "python2"
  },
  "language_info": {
   "codemirror_mode": {
    "name": "ipython",
    "version": 2
   },
   "file_extension": ".py",
   "mimetype": "text/x-python",
   "name": "python",
   "nbconvert_exporter": "python",
   "pygments_lexer": "ipython2",
   "version": "2.7.11"
  }
 },
 "nbformat": 4,
 "nbformat_minor": 0
}
